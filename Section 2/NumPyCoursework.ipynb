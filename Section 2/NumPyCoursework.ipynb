{
 "cells": [
  {
   "cell_type": "markdown",
   "id": "fb068b4e",
   "metadata": {},
   "source": [
    "# Series.\n",
    "\n",
    "This section we will tackle Pandas Series, the Pandas equivalent of a column of data and cover the basic properties, creation, manipulation and useful functions for analysis.\n",
    "Series are Pandas data structures built on top of NumPy arrays.\n",
    "* Series also contain an Index and an optional name, in addition to the array of data.\n",
    "* They can be created from other data types, but are usually imported from external sources.\n",
    "* Two or more Series grouped together form a Pandas DataFrame.\n"
   ]
  },
  {
   "cell_type": "code",
   "execution_count": 1,
   "id": "6207766a",
   "metadata": {},
   "outputs": [],
   "source": [
    "import numpy as np\n",
    "import pandas as pd # pd is standard alias for the Pandas library."
   ]
  },
  {
   "cell_type": "code",
   "execution_count": 2,
   "id": "1b4b093d",
   "metadata": {},
   "outputs": [
    {
     "data": {
      "text/plain": [
       "0       0\n",
       "1       5\n",
       "2     155\n",
       "3       0\n",
       "4     518\n",
       "5       0\n",
       "6    1827\n",
       "7     616\n",
       "8     317\n",
       "9     325\n",
       "Name: Sales, dtype: int64"
      ]
     },
     "execution_count": 2,
     "metadata": {},
     "output_type": "execute_result"
    }
   ],
   "source": [
    "# Pandas Series function converts Python lists and NumPy arrays into Pandas Series.\n",
    "# The name argument lets you specify a name.\n",
    "\n",
    "sales = [0,5,155,0,518,0,1827,616,317,325]\n",
    "sales_series = pd.Series(sales, name='Sales')\n",
    "sales_series\n",
    "\n",
    "# The seres function in turn stores the data with an additional field for indexing which starts with 0 to the last item on the series.\n",
    "# The index can be edited to suit a custom pattern."
   ]
  },
  {
   "cell_type": "markdown",
   "id": "27bfef48",
   "metadata": {},
   "source": [
    "Pandas Series have these key properties;\n",
    "* values - the data array in the series.\n",
    "* index - the index array in the series.\n",
    "* name - the optional name for the series(Useful for accessing columns in a DataFrame)\n",
    "* dtype - the data type of the elements in the value array."
   ]
  },
  {
   "cell_type": "code",
   "execution_count": 3,
   "id": "7b40f5c0",
   "metadata": {},
   "outputs": [
    {
     "data": {
      "text/plain": [
       "array([   0,    5,  155,    0,  518,    0, 1827,  616,  317,  325])"
      ]
     },
     "execution_count": 3,
     "metadata": {},
     "output_type": "execute_result"
    }
   ],
   "source": [
    "sales_series.values"
   ]
  },
  {
   "cell_type": "code",
   "execution_count": 4,
   "id": "ca6670aa",
   "metadata": {},
   "outputs": [
    {
     "data": {
      "text/plain": [
       "RangeIndex(start=0, stop=10, step=1)"
      ]
     },
     "execution_count": 4,
     "metadata": {},
     "output_type": "execute_result"
    }
   ],
   "source": [
    "sales_series.index"
   ]
  },
  {
   "cell_type": "code",
   "execution_count": 5,
   "id": "036c9376",
   "metadata": {},
   "outputs": [
    {
     "data": {
      "text/plain": [
       "'Sales'"
      ]
     },
     "execution_count": 5,
     "metadata": {},
     "output_type": "execute_result"
    }
   ],
   "source": [
    "sales_series.name"
   ]
  },
  {
   "cell_type": "code",
   "execution_count": 6,
   "id": "59ba778e",
   "metadata": {},
   "outputs": [
    {
     "data": {
      "text/plain": [
       "dtype('int64')"
      ]
     },
     "execution_count": 6,
     "metadata": {},
     "output_type": "execute_result"
    }
   ],
   "source": [
    "sales_series.dtype"
   ]
  },
  {
   "cell_type": "code",
   "execution_count": 8,
   "id": "509cf029",
   "metadata": {},
   "outputs": [
    {
     "data": {
      "text/plain": [
       "376.3"
      ]
     },
     "execution_count": 8,
     "metadata": {},
     "output_type": "execute_result"
    }
   ],
   "source": [
    "series = sales_series\n",
    "series.mean()"
   ]
  },
  {
   "cell_type": "code",
   "execution_count": 9,
   "id": "cefe6a51",
   "metadata": {},
   "outputs": [
    {
     "data": {
      "text/plain": [
       "376.3"
      ]
     },
     "execution_count": 9,
     "metadata": {},
     "output_type": "execute_result"
    }
   ],
   "source": [
    "series.values.mean()"
   ]
  },
  {
   "cell_type": "code",
   "execution_count": 10,
   "id": "68b90d5e",
   "metadata": {},
   "outputs": [
    {
     "data": {
      "text/plain": [
       "RangeIndex(start=0, stop=10, step=1)"
      ]
     },
     "execution_count": 10,
     "metadata": {},
     "output_type": "execute_result"
    }
   ],
   "source": [
    "series.index"
   ]
  },
  {
   "cell_type": "code",
   "execution_count": 13,
   "id": "0d93fcf9",
   "metadata": {},
   "outputs": [
    {
     "data": {
      "text/plain": [
       "0        0\n",
       "10       5\n",
       "20     155\n",
       "30       0\n",
       "40     518\n",
       "50       0\n",
       "60    1827\n",
       "70     616\n",
       "80     317\n",
       "90     325\n",
       "Name: Sales, dtype: int64"
      ]
     },
     "execution_count": 13,
     "metadata": {},
     "output_type": "execute_result"
    }
   ],
   "source": [
    "series.index = [0,10,20,30,40,50,60,70,80,90]\n",
    "series"
   ]
  },
  {
   "cell_type": "code",
   "execution_count": 14,
   "id": "c93e8f5b",
   "metadata": {},
   "outputs": [
    {
     "data": {
      "text/plain": [
       "0        0\n",
       "10       5\n",
       "20     155\n",
       "30       0\n",
       "40     518\n",
       "50       0\n",
       "60    1827\n",
       "70     616\n",
       "80     317\n",
       "90     325\n",
       "Name: special series, dtype: int64"
      ]
     },
     "execution_count": 14,
     "metadata": {},
     "output_type": "execute_result"
    }
   ],
   "source": [
    "series.name= 'special series'\n",
    "series"
   ]
  },
  {
   "cell_type": "code",
   "execution_count": null,
   "id": "44a8e88c",
   "metadata": {},
   "outputs": [],
   "source": []
  }
 ],
 "metadata": {
  "kernelspec": {
   "display_name": "Python 3 (ipykernel)",
   "language": "python",
   "name": "python3"
  },
  "language_info": {
   "codemirror_mode": {
    "name": "ipython",
    "version": 3
   },
   "file_extension": ".py",
   "mimetype": "text/x-python",
   "name": "python",
   "nbconvert_exporter": "python",
   "pygments_lexer": "ipython3",
   "version": "3.10.6"
  }
 },
 "nbformat": 4,
 "nbformat_minor": 5
}
