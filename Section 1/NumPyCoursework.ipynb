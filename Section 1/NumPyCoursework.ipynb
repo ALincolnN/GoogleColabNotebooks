{
 "cells": [
  {
   "cell_type": "code",
   "execution_count": null,
   "metadata": {
    "id": "JIqzikvsa_t3"
   },
   "outputs": [],
   "source": []
  },
  {
   "cell_type": "markdown",
   "metadata": {
    "id": "aAvnsz-Cb2r9"
   },
   "source": [
    "Creating a 1d array of size 5"
   ]
  },
  {
   "cell_type": "code",
   "execution_count": 1,
   "metadata": {
    "colab": {
     "base_uri": "https://localhost:8080/"
    },
    "executionInfo": {
     "elapsed": 605,
     "status": "ok",
     "timestamp": 1666252596187,
     "user": {
      "displayName": "Abraham Njogu",
      "userId": "03049419478276382899"
     },
     "user_tz": -180
    },
    "id": "PsKvjlGlY9rI",
    "outputId": "771ee259-7e76-4986-922e-43dcd5f46677"
   },
   "outputs": [
    {
     "data": {
      "text/plain": [
       "array([0, 1, 2, 3, 4])"
      ]
     },
     "execution_count": 1,
     "metadata": {},
     "output_type": "execute_result"
    }
   ],
   "source": [
    "import numpy as np\n",
    "\n",
    "array = np.array(range(5))\n",
    "\n",
    "array"
   ]
  },
  {
   "cell_type": "markdown",
   "metadata": {
    "id": "6Yls8frBcD0n"
   },
   "source": [
    "Creating a 2d array of 10 elements"
   ]
  },
  {
   "cell_type": "code",
   "execution_count": 2,
   "metadata": {
    "colab": {
     "base_uri": "https://localhost:8080/"
    },
    "executionInfo": {
     "elapsed": 735,
     "status": "ok",
     "timestamp": 1666253176109,
     "user": {
      "displayName": "Abraham Njogu",
      "userId": "03049419478276382899"
     },
     "user_tz": -180
    },
    "id": "ublqLya8Z_I3",
    "outputId": "56d12967-ba35-4cb6-a11d-b8e596484796"
   },
   "outputs": [
    {
     "data": {
      "text/plain": [
       "array([[0, 1, 2, 3, 4],\n",
       "       [0, 1, 2, 3, 4]])"
      ]
     },
     "execution_count": 2,
     "metadata": {},
     "output_type": "execute_result"
    }
   ],
   "source": [
    "array2d = np.array([range(5),range(5)])\n",
    "\n",
    "array2d"
   ]
  },
  {
   "cell_type": "code",
   "execution_count": 3,
   "metadata": {
    "colab": {
     "base_uri": "https://localhost:8080/"
    },
    "executionInfo": {
     "elapsed": 642,
     "status": "ok",
     "timestamp": 1666253462898,
     "user": {
      "displayName": "Abraham Njogu",
      "userId": "03049419478276382899"
     },
     "user_tz": -180
    },
    "id": "OeJHNlytbF0w",
    "outputId": "4a5642c5-b14c-4521-9e51-f95263af6a91"
   },
   "outputs": [
    {
     "data": {
      "text/plain": [
       "(5,)"
      ]
     },
     "execution_count": 3,
     "metadata": {},
     "output_type": "execute_result"
    }
   ],
   "source": [
    "array.shape"
   ]
  },
  {
   "cell_type": "markdown",
   "metadata": {
    "id": "B0sKLdVvbxBp"
   },
   "source": [
    "Shape is represented in terms of (rows,columns) for 2d Arrays\n",
    "\n",
    "Below tests are to highlight the basic properties of NumPy arrays which are \n",
    "  Shape(Size of arry for each dimension),Size(Number of elements),Ndim  (Dimensions) and DType(Data Type)"
   ]
  },
  {
   "cell_type": "code",
   "execution_count": 4,
   "metadata": {
    "colab": {
     "base_uri": "https://localhost:8080/"
    },
    "executionInfo": {
     "elapsed": 677,
     "status": "ok",
     "timestamp": 1666253187238,
     "user": {
      "displayName": "Abraham Njogu",
      "userId": "03049419478276382899"
     },
     "user_tz": -180
    },
    "id": "VHPnHtV3bOnS",
    "outputId": "c2054b0c-c500-41f5-c8f9-f4367c94dddf"
   },
   "outputs": [
    {
     "data": {
      "text/plain": [
       "(2, 5)"
      ]
     },
     "execution_count": 4,
     "metadata": {},
     "output_type": "execute_result"
    }
   ],
   "source": [
    "array2d.shape"
   ]
  },
  {
   "cell_type": "code",
   "execution_count": 5,
   "metadata": {
    "colab": {
     "base_uri": "https://localhost:8080/"
    },
    "executionInfo": {
     "elapsed": 936,
     "status": "ok",
     "timestamp": 1666253670322,
     "user": {
      "displayName": "Abraham Njogu",
      "userId": "03049419478276382899"
     },
     "user_tz": -180
    },
    "id": "uJ1LxQVockLf",
    "outputId": "d3f5819c-d0e2-43a2-af9e-1574c375d8bc"
   },
   "outputs": [
    {
     "data": {
      "text/plain": [
       "5"
      ]
     },
     "execution_count": 5,
     "metadata": {},
     "output_type": "execute_result"
    }
   ],
   "source": [
    "array.size"
   ]
  },
  {
   "cell_type": "code",
   "execution_count": 6,
   "metadata": {
    "colab": {
     "base_uri": "https://localhost:8080/"
    },
    "executionInfo": {
     "elapsed": 556,
     "status": "ok",
     "timestamp": 1666253674413,
     "user": {
      "displayName": "Abraham Njogu",
      "userId": "03049419478276382899"
     },
     "user_tz": -180
    },
    "id": "HyuBRXmhdEjm",
    "outputId": "d9b3ae3c-250d-4724-b5db-e2c85649e1d4"
   },
   "outputs": [
    {
     "data": {
      "text/plain": [
       "10"
      ]
     },
     "execution_count": 6,
     "metadata": {},
     "output_type": "execute_result"
    }
   ],
   "source": [
    "array2d.size"
   ]
  },
  {
   "cell_type": "code",
   "execution_count": 7,
   "metadata": {
    "colab": {
     "base_uri": "https://localhost:8080/"
    },
    "executionInfo": {
     "elapsed": 12,
     "status": "ok",
     "timestamp": 1666253677856,
     "user": {
      "displayName": "Abraham Njogu",
      "userId": "03049419478276382899"
     },
     "user_tz": -180
    },
    "id": "-j9VTa9FdHbD",
    "outputId": "91171341-2ff4-44f1-b4b9-b433de282fd5"
   },
   "outputs": [
    {
     "data": {
      "text/plain": [
       "1"
      ]
     },
     "execution_count": 7,
     "metadata": {},
     "output_type": "execute_result"
    }
   ],
   "source": [
    "array.ndim"
   ]
  },
  {
   "cell_type": "code",
   "execution_count": 8,
   "metadata": {
    "colab": {
     "base_uri": "https://localhost:8080/"
    },
    "executionInfo": {
     "elapsed": 11,
     "status": "ok",
     "timestamp": 1666253681548,
     "user": {
      "displayName": "Abraham Njogu",
      "userId": "03049419478276382899"
     },
     "user_tz": -180
    },
    "id": "aFR9Yyz3dKTN",
    "outputId": "786b3ca3-873e-4c52-b328-93bfa3c92218"
   },
   "outputs": [
    {
     "data": {
      "text/plain": [
       "2"
      ]
     },
     "execution_count": 8,
     "metadata": {},
     "output_type": "execute_result"
    }
   ],
   "source": [
    "array2d.ndim"
   ]
  },
  {
   "cell_type": "code",
   "execution_count": 9,
   "metadata": {
    "colab": {
     "base_uri": "https://localhost:8080/"
    },
    "executionInfo": {
     "elapsed": 768,
     "status": "ok",
     "timestamp": 1666253685886,
     "user": {
      "displayName": "Abraham Njogu",
      "userId": "03049419478276382899"
     },
     "user_tz": -180
    },
    "id": "CGeULdnadN3P",
    "outputId": "fa2c6f3e-d553-4684-c015-cde5e7fa514f"
   },
   "outputs": [
    {
     "data": {
      "text/plain": [
       "dtype('int64')"
      ]
     },
     "execution_count": 9,
     "metadata": {},
     "output_type": "execute_result"
    }
   ],
   "source": [
    "array.dtype"
   ]
  },
  {
   "cell_type": "code",
   "execution_count": 10,
   "metadata": {
    "colab": {
     "base_uri": "https://localhost:8080/"
    },
    "executionInfo": {
     "elapsed": 11,
     "status": "ok",
     "timestamp": 1666253690674,
     "user": {
      "displayName": "Abraham Njogu",
      "userId": "03049419478276382899"
     },
     "user_tz": -180
    },
    "id": "zOOtdZ9fdQqz",
    "outputId": "54e446d9-c125-4299-bd0e-c7dd764321ce"
   },
   "outputs": [
    {
     "data": {
      "text/plain": [
       "dtype('int64')"
      ]
     },
     "execution_count": 10,
     "metadata": {},
     "output_type": "execute_result"
    }
   ],
   "source": [
    "array2d.dtype"
   ]
  },
  {
   "cell_type": "markdown",
   "metadata": {
    "id": "9NkLJ0A_1fpo"
   },
   "source": [
    "# Arrays Creation"
   ]
  },
  {
   "cell_type": "code",
   "execution_count": 11,
   "metadata": {
    "colab": {
     "base_uri": "https://localhost:8080/"
    },
    "executionInfo": {
     "elapsed": 907,
     "status": "ok",
     "timestamp": 1666260757905,
     "user": {
      "displayName": "Abraham Njogu",
      "userId": "03049419478276382899"
     },
     "user_tz": -180
    },
    "id": "lamlm6b51kLI",
    "outputId": "dc2ad3ed-09ea-48ef-8c72-af4dcfe4ea69"
   },
   "outputs": [
    {
     "data": {
      "text/plain": [
       "array([1., 1., 1., 1.])"
      ]
     },
     "execution_count": 11,
     "metadata": {},
     "output_type": "execute_result"
    }
   ],
   "source": [
    "# You can use the following alternatives t convering lists , so you can create arrays using functions:\n",
    "\"\"\"\n",
    "  a) ones- creates an array of ones of a given size,as float by default: np.ones((rows,cols),dtype)\n",
    "  b) zeros- array of zeros of a given size, as float by default: np.zeros((rows,cols),dtype)\n",
    "  c) arange- creates an array of integers with given start and stop values and a step size(Only stop is required,and is not inclusive): np.arange(start,stop,step)\n",
    "  d) linspace- Creates an array of floats with given start and stop values with n elements,separated by a consistent step size(stop is inclusive): np.linspace(start,stop,n)\n",
    "  e) reshape- Changes the array into the specified dimensions, if compatible: np.reshape(rows,cols)\n",
    "\n",
    "\"\"\"\n",
    "np.ones(4)"
   ]
  },
  {
   "cell_type": "code",
   "execution_count": 12,
   "metadata": {
    "colab": {
     "base_uri": "https://localhost:8080/"
    },
    "executionInfo": {
     "elapsed": 518,
     "status": "ok",
     "timestamp": 1666260820845,
     "user": {
      "displayName": "Abraham Njogu",
      "userId": "03049419478276382899"
     },
     "user_tz": -180
    },
    "id": "acgr07od4YVi",
    "outputId": "acff86e7-d5cc-49a1-d6ff-d82d2d662433"
   },
   "outputs": [
    {
     "data": {
      "text/plain": [
       "array([[0, 0, 0, 0, 0],\n",
       "       [0, 0, 0, 0, 0]])"
      ]
     },
     "execution_count": 12,
     "metadata": {},
     "output_type": "execute_result"
    }
   ],
   "source": [
    "np.zeros((2,5),int)"
   ]
  },
  {
   "cell_type": "code",
   "execution_count": 13,
   "metadata": {
    "colab": {
     "base_uri": "https://localhost:8080/"
    },
    "executionInfo": {
     "elapsed": 629,
     "status": "ok",
     "timestamp": 1666260857517,
     "user": {
      "displayName": "Abraham Njogu",
      "userId": "03049419478276382899"
     },
     "user_tz": -180
    },
    "id": "ksrO3TFN4nZu",
    "outputId": "23ee2f95-bf14-498d-aa2c-99791e4fe868"
   },
   "outputs": [
    {
     "data": {
      "text/plain": [
       "array([10, 20, 30, 40, 50, 60, 70, 80, 90])"
      ]
     },
     "execution_count": 13,
     "metadata": {},
     "output_type": "execute_result"
    }
   ],
   "source": [
    "np.arange(10,100,10)"
   ]
  },
  {
   "cell_type": "code",
   "execution_count": 14,
   "metadata": {
    "colab": {
     "base_uri": "https://localhost:8080/"
    },
    "executionInfo": {
     "elapsed": 646,
     "status": "ok",
     "timestamp": 1666260958426,
     "user": {
      "displayName": "Abraham Njogu",
      "userId": "03049419478276382899"
     },
     "user_tz": -180
    },
    "id": "DXDLuBfL4xxH",
    "outputId": "a991084d-e295-4be9-ea7e-028ddb5d5d30"
   },
   "outputs": [
    {
     "data": {
      "text/plain": [
       "array([ 10.,  20.,  30.,  40.,  50.,  60.,  70.,  80.,  90., 100.])"
      ]
     },
     "execution_count": 14,
     "metadata": {},
     "output_type": "execute_result"
    }
   ],
   "source": [
    "np.linspace(10,100,10)"
   ]
  },
  {
   "cell_type": "code",
   "execution_count": 15,
   "metadata": {
    "colab": {
     "base_uri": "https://localhost:8080/"
    },
    "executionInfo": {
     "elapsed": 1026,
     "status": "ok",
     "timestamp": 1666261001971,
     "user": {
      "displayName": "Abraham Njogu",
      "userId": "03049419478276382899"
     },
     "user_tz": -180
    },
    "id": "iJVJx4ME5Ijv",
    "outputId": "aaf759e2-dc49-49ff-9b9f-cc4f8c9982d6"
   },
   "outputs": [
    {
     "data": {
      "text/plain": [
       "array([[ 10.  ,  21.25,  32.5 ],\n",
       "       [ 43.75,  55.  ,  66.25],\n",
       "       [ 77.5 ,  88.75, 100.  ]])"
      ]
     },
     "execution_count": 15,
     "metadata": {},
     "output_type": "execute_result"
    }
   ],
   "source": [
    "np.linspace(10,100,9).reshape(3,3)"
   ]
  },
  {
   "cell_type": "markdown",
   "metadata": {
    "id": "82I7QtJ3AiWG"
   },
   "source": [
    "# Random Number Arrays\n",
    "You can create random number arrays from a variety of distributions using NUmPy functions and methods(great for sampling and simulations).\n",
    "This can be achieved through the following methods:\n",
    "* default_rng- Creates a random number generator (*seed* is for reproducibility): **np.default_rng(*seed*)**\n",
    "* random- Returns *n* random numbers from a uniform distribution between 0 and 1: **rng.random(*n*)**\n",
    "* normal- Returns *n* random numbers from a normal distribution with a given *mean* and *standard deviation*: **rng.normal(*mean,stdev,n*)**\n",
    "\n",
    "*rng is the standard variable name for the default_rng number generator*"
   ]
  },
  {
   "cell_type": "code",
   "execution_count": 16,
   "metadata": {
    "id": "XoQMrvf8GEjx"
   },
   "outputs": [],
   "source": [
    "from numpy.random import default_rng"
   ]
  },
  {
   "cell_type": "code",
   "execution_count": 17,
   "metadata": {
    "colab": {
     "base_uri": "https://localhost:8080/"
    },
    "executionInfo": {
     "elapsed": 9,
     "status": "ok",
     "timestamp": 1666264483496,
     "user": {
      "displayName": "Abraham Njogu",
      "userId": "03049419478276382899"
     },
     "user_tz": -180
    },
    "id": "ZP324QvOGQdr",
    "outputId": "99aa3e0d-56a7-4727-c421-d46f72e6eb6a"
   },
   "outputs": [
    {
     "data": {
      "text/plain": [
       "array([0.22733602, 0.31675834, 0.79736546, 0.67625467, 0.39110955,\n",
       "       0.33281393, 0.59830875, 0.18673419, 0.67275604, 0.94180287])"
      ]
     },
     "execution_count": 17,
     "metadata": {},
     "output_type": "execute_result"
    }
   ],
   "source": [
    "rng = default_rng(12345)\n",
    "\n",
    "random_array = rng.random(10)\n",
    "random_array\n",
    "\n",
    "# 10 random numbers will be generated between 0 and 1."
   ]
  },
  {
   "cell_type": "code",
   "execution_count": 18,
   "metadata": {
    "colab": {
     "base_uri": "https://localhost:8080/"
    },
    "executionInfo": {
     "elapsed": 1005,
     "status": "ok",
     "timestamp": 1666264802889,
     "user": {
      "displayName": "Abraham Njogu",
      "userId": "03049419478276382899"
     },
     "user_tz": -180
    },
    "id": "XB4wBu74Haw0",
    "outputId": "7513e3b2-14d3-4e9b-a941-64f5b1f5b5a6"
   },
   "outputs": [
    {
     "data": {
      "text/plain": [
       "array([8, 3, 6, 0, 3, 3, 1, 2, 2, 4, 9, 1, 2, 5, 1, 8, 9, 0, 3, 1, 5, 8,\n",
       "       0, 6, 1, 7, 0, 7, 6, 0, 3, 7, 1, 9, 4, 1, 6, 1, 4, 4, 9, 5, 3, 4,\n",
       "       7, 8, 3, 3, 5, 0, 4, 9, 9, 5, 6, 5, 8, 2, 3, 0, 0, 8, 3, 8, 4, 8,\n",
       "       8, 9, 7, 3, 8, 4, 9, 2, 6, 3, 0, 3, 2, 0, 0, 4, 9, 5, 4, 1, 8, 2,\n",
       "       7, 7, 1, 2, 2, 4, 1, 6, 7, 3, 7, 5, 9, 8, 7, 5, 0, 5, 6, 9, 2, 1,\n",
       "       1, 6, 8, 4, 7, 5, 8, 2, 8, 3, 3, 9, 6, 0, 1, 3, 1, 7, 5, 3, 7, 2,\n",
       "       2, 4, 0, 7, 1, 1, 0, 6, 1, 2, 8, 7, 4, 6, 2, 3, 3, 0, 2, 2, 4, 8,\n",
       "       0, 0, 4, 5, 8, 6, 8, 1, 3, 5, 5, 5, 7, 0, 0, 6, 9, 9, 0, 8, 5, 3,\n",
       "       3, 6, 2, 6, 1, 3, 8, 6, 3, 2, 2, 5, 2, 6, 9, 2, 5, 0, 6, 1, 3, 1,\n",
       "       9, 4])"
      ]
     },
     "execution_count": 18,
     "metadata": {},
     "output_type": "execute_result"
    }
   ],
   "source": [
    "rng = np.random.default_rng(616)\n",
    "\n",
    "rng.random(10)\n",
    "rng.integers(0,10,200)\n",
    "\n",
    "# 200 numbers will be generated between 0 and 10 which will be integers."
   ]
  },
  {
   "cell_type": "code",
   "execution_count": 19,
   "metadata": {
    "colab": {
     "base_uri": "https://localhost:8080/"
    },
    "executionInfo": {
     "elapsed": 590,
     "status": "ok",
     "timestamp": 1666264843169,
     "user": {
      "displayName": "Abraham Njogu",
      "userId": "03049419478276382899"
     },
     "user_tz": -180
    },
    "id": "FxAVn_hdH0Pr",
    "outputId": "b6fc0034-bc83-4019-cd2a-525057e85ac6"
   },
   "outputs": [
    {
     "data": {
      "text/plain": [
       "array([46.93674729, 59.54526862, 53.43774821, 48.43637794, 46.85678879,\n",
       "       41.4561919 , 56.48790756, 53.94354469, 54.60078538, 48.61302076,\n",
       "       46.30110108, 48.61251528, 46.39485879, 54.41308139, 51.5983339 ,\n",
       "       55.19104088, 46.40247462, 49.2582163 , 50.96123011, 56.54043896,\n",
       "       50.26802998, 49.4921062 , 58.75487245, 47.16539593, 46.75138407,\n",
       "       53.34468975, 39.18803235, 48.46981803, 51.0826261 , 51.00021165,\n",
       "       45.29226014, 48.8660567 , 50.85442464, 46.3814134 , 53.29796539,\n",
       "       46.93488108, 52.76201276, 41.40470633, 49.54657275, 53.90543794,\n",
       "       56.59157323, 50.28576144, 60.12955299, 55.25932041, 48.81370977,\n",
       "       52.16739133, 53.62267161, 52.54240686, 47.27704318, 54.14478875,\n",
       "       40.40326606, 49.53532289, 53.3934452 , 48.38581526, 49.86478599,\n",
       "       44.38062247, 53.06039076, 47.40586151, 47.17316538, 43.53380576,\n",
       "       49.58251427, 53.56075888, 52.99650921, 53.06638107, 54.85886533,\n",
       "       47.45287589, 52.51216663, 45.73565211, 44.56405959, 41.77643396,\n",
       "       48.99174891, 50.27080975, 45.69987367, 53.76265684, 55.55436222,\n",
       "       44.5409102 , 44.23220053, 53.54482154, 43.40572142, 54.64503657,\n",
       "       44.65149876, 57.33746655, 43.01169377, 51.03858525, 44.27738014,\n",
       "       49.98051611, 53.04455044, 47.56268289, 47.89582542, 48.59266565,\n",
       "       51.3140069 , 41.73941136, 51.25401054, 49.93791256, 54.03827463,\n",
       "       58.75991427, 44.72441577, 54.67072243, 49.34102042, 51.92143512])"
      ]
     },
     "execution_count": 19,
     "metadata": {},
     "output_type": "execute_result"
    }
   ],
   "source": [
    "rng.normal(50,5,100)\n",
    "# 100 random numbers will be generated from a pivot of 50 as mean and a standard deviation of 5"
   ]
  },
  {
   "cell_type": "markdown",
   "metadata": {
    "id": "Aypwq9pmMgiQ"
   },
   "source": [
    "# Indexing and Slicing Arrays\n",
    "\n",
    "To access array elements, you need to either index or slice them\n",
    "\n",
    "Indexing and slicing 1d arrays is the same as base python:\n",
    "* **array[*index*]**- Indexes to access a single element.\n",
    "* **array[*start:stop:step size*]**- Slicing to access a series of elements where stop is non-inclusive.\n",
    "\n",
    "\n",
    "\n",
    "\n"
   ]
  },
  {
   "cell_type": "code",
   "execution_count": 20,
   "metadata": {
    "colab": {
     "base_uri": "https://localhost:8080/"
    },
    "executionInfo": {
     "elapsed": 9,
     "status": "ok",
     "timestamp": 1666267805340,
     "user": {
      "displayName": "Abraham Njogu",
      "userId": "03049419478276382899"
     },
     "user_tz": -180
    },
    "id": "tOb3XEd8TDyQ",
    "outputId": "9921af0c-99c4-4e5d-ef61-b2ce328ffe22"
   },
   "outputs": [
    {
     "data": {
      "text/plain": [
       "array([ 0,  1,  2,  3,  4,  5,  6,  7,  8,  9, 10, 11])"
      ]
     },
     "execution_count": 20,
     "metadata": {},
     "output_type": "execute_result"
    }
   ],
   "source": [
    "integer_array = np.arange(12)\n",
    "integer_array"
   ]
  },
  {
   "cell_type": "code",
   "execution_count": 21,
   "metadata": {
    "colab": {
     "base_uri": "https://localhost:8080/"
    },
    "executionInfo": {
     "elapsed": 966,
     "status": "ok",
     "timestamp": 1666267821943,
     "user": {
      "displayName": "Abraham Njogu",
      "userId": "03049419478276382899"
     },
     "user_tz": -180
    },
    "id": "G59oFKYITP88",
    "outputId": "b8b09afd-b5e7-479f-e689-86977a12913c"
   },
   "outputs": [
    {
     "data": {
      "text/plain": [
       "2"
      ]
     },
     "execution_count": 21,
     "metadata": {},
     "output_type": "execute_result"
    }
   ],
   "source": [
    "integer_array[2]"
   ]
  },
  {
   "cell_type": "code",
   "execution_count": 22,
   "metadata": {
    "colab": {
     "base_uri": "https://localhost:8080/"
    },
    "executionInfo": {
     "elapsed": 494,
     "status": "ok",
     "timestamp": 1666267839775,
     "user": {
      "displayName": "Abraham Njogu",
      "userId": "03049419478276382899"
     },
     "user_tz": -180
    },
    "id": "uz07wP9mTVnx",
    "outputId": "0bc12c7a-5dfc-46bb-dcb5-4c31598dcc8a"
   },
   "outputs": [
    {
     "data": {
      "text/plain": [
       "11"
      ]
     },
     "execution_count": 22,
     "metadata": {},
     "output_type": "execute_result"
    }
   ],
   "source": [
    "integer_array[-1]"
   ]
  },
  {
   "cell_type": "code",
   "execution_count": 23,
   "metadata": {
    "colab": {
     "base_uri": "https://localhost:8080/"
    },
    "executionInfo": {
     "elapsed": 20,
     "status": "ok",
     "timestamp": 1666267857611,
     "user": {
      "displayName": "Abraham Njogu",
      "userId": "03049419478276382899"
     },
     "user_tz": -180
    },
    "id": "uu086RCaTZFU",
    "outputId": "40eb4843-a676-490c-daf4-068d9abeee3b"
   },
   "outputs": [
    {
     "data": {
      "text/plain": [
       "array([0, 1, 2, 3, 4])"
      ]
     },
     "execution_count": 23,
     "metadata": {},
     "output_type": "execute_result"
    }
   ],
   "source": [
    "integer_array[:5]"
   ]
  },
  {
   "cell_type": "code",
   "execution_count": 24,
   "metadata": {
    "colab": {
     "base_uri": "https://localhost:8080/"
    },
    "executionInfo": {
     "elapsed": 635,
     "status": "ok",
     "timestamp": 1666267883786,
     "user": {
      "displayName": "Abraham Njogu",
      "userId": "03049419478276382899"
     },
     "user_tz": -180
    },
    "id": "4xyPs4GBTfbg",
    "outputId": "9e25d566-8aa3-4222-ff4b-fff73a509115"
   },
   "outputs": [
    {
     "data": {
      "text/plain": [
       "array([ 0,  2,  4,  6,  8, 10])"
      ]
     },
     "execution_count": 24,
     "metadata": {},
     "output_type": "execute_result"
    }
   ],
   "source": [
    "integer_array[::2]"
   ]
  },
  {
   "cell_type": "code",
   "execution_count": 25,
   "metadata": {
    "colab": {
     "base_uri": "https://localhost:8080/"
    },
    "executionInfo": {
     "elapsed": 672,
     "status": "ok",
     "timestamp": 1666266911714,
     "user": {
      "displayName": "Abraham Njogu",
      "userId": "03049419478276382899"
     },
     "user_tz": -180
    },
    "id": "mO_ZGHWIPF3X",
    "outputId": "2910e0f8-7be7-47ad-b466-600557c7ba2d"
   },
   "outputs": [
    {
     "data": {
      "text/plain": [
       "array(['fruits', 'vegetables', 'cereal', 'dairy', 'eggs', 'snacks',\n",
       "       'beverages', 'coffee', 'tea', 'spices'], dtype='<U10')"
      ]
     },
     "execution_count": 25,
     "metadata": {},
     "output_type": "execute_result"
    }
   ],
   "source": [
    "product_array = np.array(['fruits','vegetables','cereal','dairy','eggs','snacks','beverages','coffee','tea','spices'])\n",
    "product_array"
   ]
  },
  {
   "cell_type": "code",
   "execution_count": 26,
   "metadata": {
    "colab": {
     "base_uri": "https://localhost:8080/",
     "height": 35
    },
    "executionInfo": {
     "elapsed": 597,
     "status": "ok",
     "timestamp": 1666266947322,
     "user": {
      "displayName": "Abraham Njogu",
      "userId": "03049419478276382899"
     },
     "user_tz": -180
    },
    "id": "aFT9YU57P2J8",
    "outputId": "38d880e1-3cfa-4b70-ae45-9923caa1bd32"
   },
   "outputs": [
    {
     "data": {
      "text/plain": [
       "'vegetables'"
      ]
     },
     "execution_count": 26,
     "metadata": {},
     "output_type": "execute_result"
    }
   ],
   "source": [
    "product_array[1]"
   ]
  },
  {
   "cell_type": "code",
   "execution_count": 27,
   "metadata": {
    "colab": {
     "base_uri": "https://localhost:8080/",
     "height": 35
    },
    "executionInfo": {
     "elapsed": 616,
     "status": "ok",
     "timestamp": 1666266967711,
     "user": {
      "displayName": "Abraham Njogu",
      "userId": "03049419478276382899"
     },
     "user_tz": -180
    },
    "id": "qcWeoFjfP_8T",
    "outputId": "7375fd04-9e26-430f-fb87-82dd5efc95ec"
   },
   "outputs": [
    {
     "data": {
      "text/plain": [
       "'spices'"
      ]
     },
     "execution_count": 27,
     "metadata": {},
     "output_type": "execute_result"
    }
   ],
   "source": [
    "product_array[-1]"
   ]
  },
  {
   "cell_type": "code",
   "execution_count": 28,
   "metadata": {
    "colab": {
     "base_uri": "https://localhost:8080/"
    },
    "executionInfo": {
     "elapsed": 855,
     "status": "ok",
     "timestamp": 1666266987648,
     "user": {
      "displayName": "Abraham Njogu",
      "userId": "03049419478276382899"
     },
     "user_tz": -180
    },
    "id": "oNa9RGAkQDwE",
    "outputId": "892ccc8e-e876-4fb2-9451-271199649ed3"
   },
   "outputs": [
    {
     "data": {
      "text/plain": [
       "array(['fruits', 'vegetables', 'cereal', 'dairy', 'eggs'], dtype='<U10')"
      ]
     },
     "execution_count": 28,
     "metadata": {},
     "output_type": "execute_result"
    }
   ],
   "source": [
    "product_array[:5]"
   ]
  },
  {
   "cell_type": "code",
   "execution_count": 29,
   "metadata": {
    "colab": {
     "base_uri": "https://localhost:8080/"
    },
    "executionInfo": {
     "elapsed": 733,
     "status": "ok",
     "timestamp": 1666267033301,
     "user": {
      "displayName": "Abraham Njogu",
      "userId": "03049419478276382899"
     },
     "user_tz": -180
    },
    "id": "UdjnultgQL2N",
    "outputId": "eeb17703-1dee-4683-e522-f080c0e9cec3"
   },
   "outputs": [
    {
     "data": {
      "text/plain": [
       "array(['spices', 'tea', 'coffee', 'beverages', 'snacks', 'eggs', 'dairy',\n",
       "       'cereal', 'vegetables', 'fruits'], dtype='<U10')"
      ]
     },
     "execution_count": 29,
     "metadata": {},
     "output_type": "execute_result"
    }
   ],
   "source": [
    "product_array[::-1]"
   ]
  },
  {
   "cell_type": "code",
   "execution_count": 30,
   "metadata": {
    "colab": {
     "base_uri": "https://localhost:8080/"
    },
    "executionInfo": {
     "elapsed": 1132,
     "status": "ok",
     "timestamp": 1666267052332,
     "user": {
      "displayName": "Abraham Njogu",
      "userId": "03049419478276382899"
     },
     "user_tz": -180
    },
    "id": "zLsOBtViQUBr",
    "outputId": "2ccb3946-e047-428b-b9e5-1b9dbc302e72"
   },
   "outputs": [
    {
     "data": {
      "text/plain": [
       "array(['snacks', 'coffee', 'spices'], dtype='<U10')"
      ]
     },
     "execution_count": 30,
     "metadata": {},
     "output_type": "execute_result"
    }
   ],
   "source": [
    "product_array[5::2]"
   ]
  },
  {
   "cell_type": "markdown",
   "metadata": {
    "id": "Do4l3QUuQc2r"
   },
   "source": [
    "Indexing and slicing of 2d arrays requires an extra index or slice:\n",
    "* **array[*row index:column index*]**- Indexing to access a single element.\n",
    "* **array[*start:stop:step size, start:stop:step size*]**- Slicing to access a series of elements."
   ]
  },
  {
   "cell_type": "code",
   "execution_count": 31,
   "metadata": {
    "colab": {
     "base_uri": "https://localhost:8080/"
    },
    "executionInfo": {
     "elapsed": 1077,
     "status": "ok",
     "timestamp": 1666267959166,
     "user": {
      "displayName": "Abraham Njogu",
      "userId": "03049419478276382899"
     },
     "user_tz": -180
    },
    "id": "ZEnnh8CCTpXV",
    "outputId": "42b3a5dc-01e7-4493-e900-7c622886f392"
   },
   "outputs": [
    {
     "data": {
      "text/plain": [
       "array([[ 0,  1,  2,  3],\n",
       "       [ 4,  5,  6,  7],\n",
       "       [ 8,  9, 10, 11]])"
      ]
     },
     "execution_count": 31,
     "metadata": {},
     "output_type": "execute_result"
    }
   ],
   "source": [
    "new_array = integer_array.reshape(3,4)\n",
    "new_array"
   ]
  },
  {
   "cell_type": "code",
   "execution_count": 32,
   "metadata": {
    "colab": {
     "base_uri": "https://localhost:8080/"
    },
    "executionInfo": {
     "elapsed": 948,
     "status": "ok",
     "timestamp": 1666267987563,
     "user": {
      "displayName": "Abraham Njogu",
      "userId": "03049419478276382899"
     },
     "user_tz": -180
    },
    "id": "52TpaZTUT1wU",
    "outputId": "71622f9c-f1fc-4c77-84dc-75275ef59af6"
   },
   "outputs": [
    {
     "data": {
      "text/plain": [
       "array([[ 0,  1,  2,  3],\n",
       "       [ 4,  5,  6,  7],\n",
       "       [ 8,  9, 10, 11]])"
      ]
     },
     "execution_count": 32,
     "metadata": {},
     "output_type": "execute_result"
    }
   ],
   "source": [
    "new_array[:,:]"
   ]
  },
  {
   "cell_type": "code",
   "execution_count": 33,
   "metadata": {
    "colab": {
     "base_uri": "https://localhost:8080/"
    },
    "executionInfo": {
     "elapsed": 492,
     "status": "ok",
     "timestamp": 1666268017179,
     "user": {
      "displayName": "Abraham Njogu",
      "userId": "03049419478276382899"
     },
     "user_tz": -180
    },
    "id": "nq-Zp2grT8YE",
    "outputId": "044688fa-a099-4bb1-93f0-d99ae3363522"
   },
   "outputs": [
    {
     "data": {
      "text/plain": [
       "array([ 3,  7, 11])"
      ]
     },
     "execution_count": 33,
     "metadata": {},
     "output_type": "execute_result"
    }
   ],
   "source": [
    "new_array[:,3]"
   ]
  },
  {
   "cell_type": "code",
   "execution_count": 34,
   "metadata": {
    "colab": {
     "base_uri": "https://localhost:8080/"
    },
    "executionInfo": {
     "elapsed": 996,
     "status": "ok",
     "timestamp": 1666268057500,
     "user": {
      "displayName": "Abraham Njogu",
      "userId": "03049419478276382899"
     },
     "user_tz": -180
    },
    "id": "EQXrMIuWUJGg",
    "outputId": "97fc9f22-0e53-4049-bd9f-6540145a6cb8"
   },
   "outputs": [
    {
     "data": {
      "text/plain": [
       "array([[ 1,  2],\n",
       "       [ 5,  6],\n",
       "       [ 9, 10]])"
      ]
     },
     "execution_count": 34,
     "metadata": {},
     "output_type": "execute_result"
    }
   ],
   "source": [
    "new_array[:,1:3]"
   ]
  },
  {
   "cell_type": "code",
   "execution_count": 35,
   "metadata": {
    "colab": {
     "base_uri": "https://localhost:8080/"
    },
    "executionInfo": {
     "elapsed": 531,
     "status": "ok",
     "timestamp": 1666268089179,
     "user": {
      "displayName": "Abraham Njogu",
      "userId": "03049419478276382899"
     },
     "user_tz": -180
    },
    "id": "13gzxn7SUPgd",
    "outputId": "e0250bc2-7ebc-4aec-aaeb-c33c7a2296b7"
   },
   "outputs": [
    {
     "data": {
      "text/plain": [
       "9"
      ]
     },
     "execution_count": 35,
     "metadata": {},
     "output_type": "execute_result"
    }
   ],
   "source": [
    "new_array[2,1]"
   ]
  },
  {
   "cell_type": "code",
   "execution_count": 36,
   "metadata": {
    "colab": {
     "base_uri": "https://localhost:8080/"
    },
    "executionInfo": {
     "elapsed": 924,
     "status": "ok",
     "timestamp": 1666267157839,
     "user": {
      "displayName": "Abraham Njogu",
      "userId": "03049419478276382899"
     },
     "user_tz": -180
    },
    "id": "OCZBTBFwQeVL",
    "outputId": "ddd62832-b5d7-43a4-a709-fe040e39dac1"
   },
   "outputs": [
    {
     "data": {
      "text/plain": [
       "array([['fruits', 'vegetables', 'cereal', 'dairy', 'eggs'],\n",
       "       ['snacks', 'beverages', 'coffee', 'tea', 'spices']], dtype='<U10')"
      ]
     },
     "execution_count": 36,
     "metadata": {},
     "output_type": "execute_result"
    }
   ],
   "source": [
    "product_array2d = product_array.reshape(2,5)\n",
    "product_array2d"
   ]
  },
  {
   "cell_type": "code",
   "execution_count": 37,
   "metadata": {
    "colab": {
     "base_uri": "https://localhost:8080/",
     "height": 35
    },
    "executionInfo": {
     "elapsed": 527,
     "status": "ok",
     "timestamp": 1666267267279,
     "user": {
      "displayName": "Abraham Njogu",
      "userId": "03049419478276382899"
     },
     "user_tz": -180
    },
    "id": "07yo3RpyQlpt",
    "outputId": "5a2f7134-aefb-47e7-c735-9ec916ad9600"
   },
   "outputs": [
    {
     "data": {
      "text/plain": [
       "'coffee'"
      ]
     },
     "execution_count": 37,
     "metadata": {},
     "output_type": "execute_result"
    }
   ],
   "source": [
    "product_array2d[1,2] #Coffee is in the second row which means row index 1, and is in the third column which would be column index 2"
   ]
  },
  {
   "cell_type": "code",
   "execution_count": 38,
   "metadata": {
    "colab": {
     "base_uri": "https://localhost:8080/"
    },
    "executionInfo": {
     "elapsed": 668,
     "status": "ok",
     "timestamp": 1666267294423,
     "user": {
      "displayName": "Abraham Njogu",
      "userId": "03049419478276382899"
     },
     "user_tz": -180
    },
    "id": "LQTcHeW1RNOb",
    "outputId": "324a4497-d891-44a2-c096-5cb1375289c9"
   },
   "outputs": [
    {
     "data": {
      "text/plain": [
       "array([['cereal', 'dairy', 'eggs'],\n",
       "       ['coffee', 'tea', 'spices']], dtype='<U10')"
      ]
     },
     "execution_count": 38,
     "metadata": {},
     "output_type": "execute_result"
    }
   ],
   "source": [
    "product_array2d[:,2:] #To grab all rows,and a portion of columns from the column index 2 to the end of column list, we supply a row index of : and column index of 2:"
   ]
  },
  {
   "cell_type": "code",
   "execution_count": 39,
   "metadata": {
    "colab": {
     "base_uri": "https://localhost:8080/"
    },
    "executionInfo": {
     "elapsed": 657,
     "status": "ok",
     "timestamp": 1666267616144,
     "user": {
      "displayName": "Abraham Njogu",
      "userId": "03049419478276382899"
     },
     "user_tz": -180
    },
    "id": "94q1XToXST9X",
    "outputId": "7a6a0a90-7825-4a82-a328-7e162c4cf754"
   },
   "outputs": [
    {
     "data": {
      "text/plain": [
       "array(['snacks', 'beverages', 'coffee', 'tea', 'spices'], dtype='<U10')"
      ]
     },
     "execution_count": 39,
     "metadata": {},
     "output_type": "execute_result"
    }
   ],
   "source": [
    "product_array2d[1,:] #Grabs a subset of rows and all columns"
   ]
  },
  {
   "cell_type": "markdown",
   "metadata": {},
   "source": [
    "# Filtering Arrays.\n",
    "\n",
    "You can filter arrays by indexing them with a logical test, Only returning the elements in positions where the logical test returns True.\n",
    "\n"
   ]
  },
  {
   "cell_type": "code",
   "execution_count": 40,
   "metadata": {},
   "outputs": [
    {
     "data": {
      "text/plain": [
       "array([[   0,    5,  155,    0,  518],\n",
       "       [   0, 1827,  616,  317,  325]])"
      ]
     },
     "execution_count": 40,
     "metadata": {},
     "output_type": "execute_result"
    }
   ],
   "source": [
    "array = [[0,5,155,0,518],[0,1827,616,317,325]]\n",
    "\n",
    "sales_array= np.array(array)\n",
    "\n",
    "sales_array"
   ]
  },
  {
   "cell_type": "code",
   "execution_count": 41,
   "metadata": {},
   "outputs": [
    {
     "data": {
      "text/plain": [
       "array([[False,  True,  True, False,  True],\n",
       "       [False,  True,  True,  True,  True]])"
      ]
     },
     "execution_count": 41,
     "metadata": {},
     "output_type": "execute_result"
    }
   ],
   "source": [
    "# A logical test that returns a boolean value when the test runs against each element in the array.\n",
    "\n",
    "sales_array != 0"
   ]
  },
  {
   "cell_type": "code",
   "execution_count": 42,
   "metadata": {},
   "outputs": [
    {
     "data": {
      "text/plain": [
       "array([   5,  155,  518, 1827,  616,  317,  325])"
      ]
     },
     "execution_count": 42,
     "metadata": {},
     "output_type": "execute_result"
    }
   ],
   "source": [
    "# Returns the values in the array that return True when the logical test is applied on them.\n",
    "\n",
    "sales_array[sales_array != 0] "
   ]
  },
  {
   "cell_type": "markdown",
   "metadata": {},
   "source": [
    "You can also filter arrays with multiple logical tests:\n",
    "* Use **|** for **or** conditions and **&** for **and** conditions.\n"
   ]
  },
  {
   "cell_type": "code",
   "execution_count": 43,
   "metadata": {},
   "outputs": [
    {
     "data": {
      "text/plain": [
       "array([  0,   5,   0,   0, 616])"
      ]
     },
     "execution_count": 43,
     "metadata": {},
     "output_type": "execute_result"
    }
   ],
   "source": [
    "# Returning an array that returns element 616 or elements less than 100 from the array.\n",
    "\n",
    "sales_array[(sales_array == 616) | (sales_array < 100)]"
   ]
  },
  {
   "cell_type": "code",
   "execution_count": 44,
   "metadata": {},
   "outputs": [
    {
     "data": {
      "text/plain": [
       "array([155, 317, 325])"
      ]
     },
     "execution_count": 44,
     "metadata": {},
     "output_type": "execute_result"
    }
   ],
   "source": [
    "sales_array[(sales_array > 100) & (sales_array < 500)]"
   ]
  },
  {
   "cell_type": "markdown",
   "metadata": {},
   "source": [
    "You can keep your filters tidy by assigning them to variables and passing the variable to the array index like; "
   ]
  },
  {
   "cell_type": "code",
   "execution_count": 45,
   "metadata": {},
   "outputs": [
    {
     "data": {
      "text/plain": [
       "array([155, 317, 325])"
      ]
     },
     "execution_count": 45,
     "metadata": {},
     "output_type": "execute_result"
    }
   ],
   "source": [
    "mask = (sales_array > 100) & (sales_array < 500)\n",
    "\n",
    "sales_array[mask]"
   ]
  },
  {
   "cell_type": "markdown",
   "metadata": {},
   "source": [
    "You can also filter arrays based on **Values in other arrays**.\n",
    " Use the boolean array returned from the other array to index the array you want to filter"
   ]
  },
  {
   "cell_type": "code",
   "execution_count": 46,
   "metadata": {},
   "outputs": [
    {
     "data": {
      "text/plain": [
       "array(['fruits', 'vegetables', 'cereal', 'dairy', 'eggs'], dtype='<U10')"
      ]
     },
     "execution_count": 46,
     "metadata": {},
     "output_type": "execute_result"
    }
   ],
   "source": [
    "product_array1 = product_array[:5]\n",
    "\n",
    "product_array1"
   ]
  },
  {
   "cell_type": "code",
   "execution_count": 47,
   "metadata": {},
   "outputs": [
    {
     "data": {
      "text/plain": [
       "array([  0,   5, 155,   0, 518])"
      ]
     },
     "execution_count": 47,
     "metadata": {},
     "output_type": "execute_result"
    }
   ],
   "source": [
    "d_array = sales_array[:1].reshape(5)\n",
    "d_array"
   ]
  },
  {
   "cell_type": "code",
   "execution_count": 48,
   "metadata": {},
   "outputs": [
    {
     "data": {
      "text/plain": [
       "array(['vegetables', 'cereal', 'eggs'], dtype='<U10')"
      ]
     },
     "execution_count": 48,
     "metadata": {},
     "output_type": "execute_result"
    }
   ],
   "source": [
    "# Indexing product_array1 with the indexes returned by d_arry greater than 0.\n",
    "# The comparing arrays must be of the same dimension and size.\n",
    "product_array1[d_array > 0]"
   ]
  },
  {
   "cell_type": "markdown",
   "metadata": {},
   "source": [
    "You can modify array values by assigning new values.\n",
    "\n",
    "You do this by specifying the index of the value you want to change and assign it a new value using the assignment operator."
   ]
  },
  {
   "cell_type": "code",
   "execution_count": 49,
   "metadata": {},
   "outputs": [
    {
     "data": {
      "text/plain": [
       "array([  0,   5, 155,   0, 518])"
      ]
     },
     "execution_count": 49,
     "metadata": {},
     "output_type": "execute_result"
    }
   ],
   "source": [
    "d_array"
   ]
  },
  {
   "cell_type": "code",
   "execution_count": 50,
   "metadata": {},
   "outputs": [
    {
     "data": {
      "text/plain": [
       "array([  0,  10, 155,   0, 518])"
      ]
     },
     "execution_count": 50,
     "metadata": {},
     "output_type": "execute_result"
    }
   ],
   "source": [
    "# Assigns the value 10 as the new value to the d_array arrya index 1(The second item in the array).\n",
    "\n",
    "d_array[1] = 10\n",
    "\n",
    "d_array"
   ]
  },
  {
   "cell_type": "code",
   "execution_count": 51,
   "metadata": {},
   "outputs": [
    {
     "data": {
      "text/plain": [
       "array([ 25,  10, 155,  25, 518])"
      ]
     },
     "execution_count": 51,
     "metadata": {},
     "output_type": "execute_result"
    }
   ],
   "source": [
    "# Assigns the value 25 to every index in the array where the value is zero.\n",
    "\n",
    "d_array[d_array == 0] = 25\n",
    "d_array"
   ]
  },
  {
   "cell_type": "code",
   "execution_count": 52,
   "metadata": {},
   "outputs": [
    {
     "data": {
      "text/plain": [
       "array([ 0,  1,  2,  3,  4,  5,  6,  7,  8,  9, 10, 11, 12, 13, 14, 15, 16,\n",
       "       17, 18, 19])"
      ]
     },
     "execution_count": 52,
     "metadata": {},
     "output_type": "execute_result"
    }
   ],
   "source": [
    "my_array = np.arange(20)\n",
    "\n",
    "my_array"
   ]
  },
  {
   "cell_type": "code",
   "execution_count": 53,
   "metadata": {},
   "outputs": [
    {
     "data": {
      "text/plain": [
       "array([ True, False,  True, False,  True, False,  True, False,  True,\n",
       "       False,  True, False,  True, False,  True, False,  True, False,\n",
       "        True, False])"
      ]
     },
     "execution_count": 53,
     "metadata": {},
     "output_type": "execute_result"
    }
   ],
   "source": [
    "my_array % 2 == 0"
   ]
  },
  {
   "cell_type": "code",
   "execution_count": 54,
   "metadata": {},
   "outputs": [
    {
     "data": {
      "text/plain": [
       "array([ 0,  2,  4,  6,  8, 10, 12, 14, 16, 18])"
      ]
     },
     "execution_count": 54,
     "metadata": {},
     "output_type": "execute_result"
    }
   ],
   "source": [
    "my_array[my_array % 2 == 0]"
   ]
  },
  {
   "cell_type": "markdown",
   "metadata": {},
   "source": []
  },
  {
   "cell_type": "markdown",
   "metadata": {},
   "source": [
    "# The Where Function.\n",
    "\n",
    "The **where** function performs a logical test and returns a given value if the test is True or another if the test is False\n",
    "    \n",
    "   **np.where(logical test,\n",
    "                value if True,\n",
    "                value if False)**\n"
   ]
  },
  {
   "cell_type": "code",
   "execution_count": 55,
   "metadata": {},
   "outputs": [
    {
     "data": {
      "text/plain": [
       "array([ 12, 102,  18,   0,   0])"
      ]
     },
     "execution_count": 55,
     "metadata": {},
     "output_type": "execute_result"
    }
   ],
   "source": [
    "inventory_array = np.array([12,102,18,0,0])\n",
    "\n",
    "inventory_array"
   ]
  },
  {
   "cell_type": "code",
   "execution_count": 56,
   "metadata": {},
   "outputs": [
    {
     "data": {
      "text/plain": [
       "array(['fruits', 'vegetables', 'cereal', 'dairy', 'eggs'], dtype='<U10')"
      ]
     },
     "execution_count": 56,
     "metadata": {},
     "output_type": "execute_result"
    }
   ],
   "source": [
    "product_array1"
   ]
  },
  {
   "cell_type": "code",
   "execution_count": 57,
   "metadata": {},
   "outputs": [
    {
     "data": {
      "text/plain": [
       "array(['In Stock', 'In Stock', 'In Stock', 'Out of Stock', 'Out of Stock'],\n",
       "      dtype='<U12')"
      ]
     },
     "execution_count": 57,
     "metadata": {},
     "output_type": "execute_result"
    }
   ],
   "source": [
    "np.where(inventory_array <= 0, 'Out of Stock', 'In Stock')"
   ]
  },
  {
   "cell_type": "code",
   "execution_count": 58,
   "metadata": {},
   "outputs": [
    {
     "data": {
      "text/plain": [
       "array(['fruits', 'vegetables', 'cereal', 'Out of Stock', 'Out of Stock'],\n",
       "      dtype='<U12')"
      ]
     },
     "execution_count": 58,
     "metadata": {},
     "output_type": "execute_result"
    }
   ],
   "source": [
    "np.where(inventory_array <= 0,'Out of Stock',product_array1)"
   ]
  },
  {
   "cell_type": "code",
   "execution_count": 59,
   "metadata": {},
   "outputs": [
    {
     "data": {
      "text/plain": [
       "array([ 0,  1,  2,  3,  4,  5,  6,  7,  8,  9, 10, 11, 12, 13, 14, 15, 16,\n",
       "       17, 18, 19])"
      ]
     },
     "execution_count": 59,
     "metadata": {},
     "output_type": "execute_result"
    }
   ],
   "source": [
    "even_odd = np.arange(20)\n",
    "\n",
    "even_odd"
   ]
  },
  {
   "cell_type": "code",
   "execution_count": 60,
   "metadata": {},
   "outputs": [
    {
     "data": {
      "text/plain": [
       "array(['even', 'odd', 'even', 'odd', 'even', 'odd', 'even', 'odd', 'even',\n",
       "       'odd', 'even', 'odd', 'even', 'odd', 'even', 'odd', 'even', 'odd',\n",
       "       'even', 'odd'], dtype='<U4')"
      ]
     },
     "execution_count": 60,
     "metadata": {},
     "output_type": "execute_result"
    }
   ],
   "source": [
    "np.where(even_odd % 2 == 0,'even','odd')"
   ]
  },
  {
   "cell_type": "code",
   "execution_count": 61,
   "metadata": {},
   "outputs": [
    {
     "data": {
      "text/plain": [
       "array(['even', 'odd', 'even', 'odd', 'even', 'odd', 'even', 'odd', 'even',\n",
       "       '9', 'even', 'odd', 'even', 'odd', 'even', 'odd', 'even', 'odd',\n",
       "       'even', 'odd'], dtype='<U21')"
      ]
     },
     "execution_count": 61,
     "metadata": {},
     "output_type": "execute_result"
    }
   ],
   "source": [
    "# Applying an exception to the clause that checks if the number is even or odd or 9 and returns the corresponding value.\n",
    "\n",
    "np.where(even_odd % 2 == 0,'even',np.where(even_odd == 9,even_odd,'odd'))"
   ]
  },
  {
   "cell_type": "code",
   "execution_count": null,
   "metadata": {},
   "outputs": [],
   "source": []
  },
  {
   "cell_type": "markdown",
   "metadata": {},
   "source": [
    "# Array Aggregation.\n",
    "\n",
    "It lets you calculate metrics like sum, mean and max.\n"
   ]
  },
  {
   "cell_type": "code",
   "execution_count": 62,
   "metadata": {},
   "outputs": [
    {
     "data": {
      "text/plain": [
       "array([[  25,   10,  155,   25,  518],\n",
       "       [   0, 1827,  616,  317,  325]])"
      ]
     },
     "execution_count": 62,
     "metadata": {},
     "output_type": "execute_result"
    }
   ],
   "source": [
    "sales_array"
   ]
  },
  {
   "cell_type": "code",
   "execution_count": 63,
   "metadata": {},
   "outputs": [
    {
     "data": {
      "text/plain": [
       "3818"
      ]
     },
     "execution_count": 63,
     "metadata": {},
     "output_type": "execute_result"
    }
   ],
   "source": [
    "# Returns the sum of all the values in the array.\n",
    "\n",
    "sales_array.sum()\n"
   ]
  },
  {
   "cell_type": "code",
   "execution_count": 64,
   "metadata": {},
   "outputs": [
    {
     "data": {
      "text/plain": [
       "381.8"
      ]
     },
     "execution_count": 64,
     "metadata": {},
     "output_type": "execute_result"
    }
   ],
   "source": [
    "# Returns the average of the values in the array.\n",
    "\n",
    "sales_array.mean()"
   ]
  },
  {
   "cell_type": "code",
   "execution_count": 65,
   "metadata": {},
   "outputs": [
    {
     "data": {
      "text/plain": [
       "1827"
      ]
     },
     "execution_count": 65,
     "metadata": {},
     "output_type": "execute_result"
    }
   ],
   "source": [
    "# Returns the maximum value in the array.\n",
    "\n",
    "sales_array.max()"
   ]
  },
  {
   "cell_type": "code",
   "execution_count": 66,
   "metadata": {},
   "outputs": [
    {
     "data": {
      "text/plain": [
       "0"
      ]
     },
     "execution_count": 66,
     "metadata": {},
     "output_type": "execute_result"
    }
   ],
   "source": [
    "# Returns the minimum value in the array.\n",
    "\n",
    "sales_array.min()"
   ]
  },
  {
   "cell_type": "raw",
   "metadata": {},
   "source": [
    "You can also aggreagate along the basis of rows and columns of the array.\n",
    "\n",
    "\n"
   ]
  },
  {
   "cell_type": "code",
   "execution_count": 67,
   "metadata": {},
   "outputs": [
    {
     "data": {
      "text/plain": [
       "array([  25, 1837,  771,  342,  843])"
      ]
     },
     "execution_count": 67,
     "metadata": {},
     "output_type": "execute_result"
    }
   ],
   "source": [
    "# By using the axis argument, the sum will aggregate across the rows\n",
    "\n",
    "sales_array.sum(axis = 0)"
   ]
  },
  {
   "cell_type": "code",
   "execution_count": 68,
   "metadata": {},
   "outputs": [
    {
     "data": {
      "text/plain": [
       "array([ 733, 3085])"
      ]
     },
     "execution_count": 68,
     "metadata": {},
     "output_type": "execute_result"
    }
   ],
   "source": [
    "# Aggregates across columns\n",
    "\n",
    "sales_array.sum(axis = 1)"
   ]
  },
  {
   "cell_type": "code",
   "execution_count": null,
   "metadata": {},
   "outputs": [],
   "source": []
  },
  {
   "cell_type": "code",
   "execution_count": 69,
   "metadata": {},
   "outputs": [
    {
     "data": {
      "text/plain": [
       "array([3.97, 8.66, 4.6 , 3.06, 5.74, 0.89, 8.82, 7.32, 7.32, 5.62])"
      ]
     },
     "execution_count": 69,
     "metadata": {},
     "output_type": "execute_result"
    }
   ],
   "source": [
    "rng = np.random.default_rng(616)\n",
    "\n",
    "price = (rng.random(10)*10).round(2)\n",
    "\n",
    "price"
   ]
  },
  {
   "cell_type": "code",
   "execution_count": 70,
   "metadata": {},
   "outputs": [
    {
     "data": {
      "text/plain": [
       "array([80, 33, 60,  6, 31, 35, 16, 20, 29, 43])"
      ]
     },
     "execution_count": 70,
     "metadata": {},
     "output_type": "execute_result"
    }
   ],
   "source": [
    "inventory = rng.integers(0,100,10)\n",
    "\n",
    "inventory"
   ]
  },
  {
   "cell_type": "code",
   "execution_count": 71,
   "metadata": {},
   "outputs": [
    {
     "data": {
      "text/plain": [
       "5.6"
      ]
     },
     "execution_count": 71,
     "metadata": {},
     "output_type": "execute_result"
    }
   ],
   "source": [
    "price.mean()"
   ]
  },
  {
   "cell_type": "code",
   "execution_count": 72,
   "metadata": {},
   "outputs": [
    {
     "data": {
      "text/plain": [
       "35.3"
      ]
     },
     "execution_count": 72,
     "metadata": {},
     "output_type": "execute_result"
    }
   ],
   "source": [
    "inventory.mean()"
   ]
  },
  {
   "cell_type": "code",
   "execution_count": 73,
   "metadata": {},
   "outputs": [
    {
     "data": {
      "text/plain": [
       "353"
      ]
     },
     "execution_count": 73,
     "metadata": {},
     "output_type": "execute_result"
    }
   ],
   "source": [
    "inventory.sum()"
   ]
  },
  {
   "cell_type": "code",
   "execution_count": 74,
   "metadata": {},
   "outputs": [
    {
     "data": {
      "text/plain": [
       "1848.2900000000002"
      ]
     },
     "execution_count": 74,
     "metadata": {},
     "output_type": "execute_result"
    }
   ],
   "source": [
    "(price * inventory).sum()"
   ]
  },
  {
   "cell_type": "code",
   "execution_count": 75,
   "metadata": {},
   "outputs": [
    {
     "data": {
      "text/plain": [
       "0"
      ]
     },
     "execution_count": 75,
     "metadata": {},
     "output_type": "execute_result"
    }
   ],
   "source": [
    "(price*inventory).argmax() # Returns the index of the most valued product."
   ]
  },
  {
   "cell_type": "code",
   "execution_count": 76,
   "metadata": {},
   "outputs": [
    {
     "data": {
      "text/plain": [
       "array([[3.97, 8.66],\n",
       "       [4.6 , 3.06],\n",
       "       [5.74, 0.89],\n",
       "       [8.82, 7.32],\n",
       "       [7.32, 5.62]])"
      ]
     },
     "execution_count": 76,
     "metadata": {},
     "output_type": "execute_result"
    }
   ],
   "source": [
    "price_2d = price.reshape(5,2)\n",
    "price_2d"
   ]
  },
  {
   "cell_type": "code",
   "execution_count": 77,
   "metadata": {},
   "outputs": [
    {
     "data": {
      "text/plain": [
       "array([30.45, 25.55])"
      ]
     },
     "execution_count": 77,
     "metadata": {},
     "output_type": "execute_result"
    }
   ],
   "source": [
    "price_2d.sum(axis = 0)"
   ]
  },
  {
   "cell_type": "code",
   "execution_count": 78,
   "metadata": {},
   "outputs": [
    {
     "data": {
      "text/plain": [
       "array([12.63,  7.66,  6.63, 16.14, 12.94])"
      ]
     },
     "execution_count": 78,
     "metadata": {},
     "output_type": "execute_result"
    }
   ],
   "source": [
    "price_2d.sum(axis = 1)"
   ]
  },
  {
   "cell_type": "code",
   "execution_count": null,
   "metadata": {},
   "outputs": [],
   "source": []
  },
  {
   "cell_type": "markdown",
   "metadata": {},
   "source": [
    "# Array functions.\n",
    "\n",
    "They let you perform other aggregations like median and percentiles.\n"
   ]
  },
  {
   "cell_type": "code",
   "execution_count": 79,
   "metadata": {},
   "outputs": [
    {
     "data": {
      "text/plain": [
       "array([[  25,   10,  155,   25,  518],\n",
       "       [   0, 1827,  616,  317,  325]])"
      ]
     },
     "execution_count": 79,
     "metadata": {},
     "output_type": "execute_result"
    }
   ],
   "source": [
    "sales_array"
   ]
  },
  {
   "cell_type": "code",
   "execution_count": 80,
   "metadata": {},
   "outputs": [
    {
     "data": {
      "text/plain": [
       "236.0"
      ]
     },
     "execution_count": 80,
     "metadata": {},
     "output_type": "execute_result"
    }
   ],
   "source": [
    "np.median(sales_array) # Returns the median of the elements in the array."
   ]
  },
  {
   "cell_type": "code",
   "execution_count": 81,
   "metadata": {},
   "outputs": [
    {
     "data": {
      "text/plain": [
       "236.0"
      ]
     },
     "execution_count": 81,
     "metadata": {},
     "output_type": "execute_result"
    }
   ],
   "source": [
    "np.percentile(sales_array,50)"
   ]
  },
  {
   "cell_type": "code",
   "execution_count": 82,
   "metadata": {},
   "outputs": [
    {
     "data": {
      "text/plain": [
       "array([   0,   10,   25,  155,  317,  325,  518,  616, 1827])"
      ]
     },
     "execution_count": 82,
     "metadata": {},
     "output_type": "execute_result"
    }
   ],
   "source": [
    "np.unique(sales_array) # Returns only the unique values in an array"
   ]
  },
  {
   "cell_type": "code",
   "execution_count": 83,
   "metadata": {},
   "outputs": [
    {
     "data": {
      "text/plain": [
       "array([[ 5.        ,  3.16227766, 12.4498996 ,  5.        , 22.75961335],\n",
       "       [ 0.        , 42.74342055, 24.81934729, 17.80449381, 18.02775638]])"
      ]
     },
     "execution_count": 83,
     "metadata": {},
     "output_type": "execute_result"
    }
   ],
   "source": [
    "np.sqrt(sales_array) # Returns the square roots of each element in the array"
   ]
  },
  {
   "cell_type": "markdown",
   "metadata": {},
   "source": [
    "# Sorting arrays.\n",
    "\n",
    "The sort() method will sort arrays in place.\n",
    "\n",
    "Use the axis argument to specify which dimension to sort by."
   ]
  },
  {
   "cell_type": "code",
   "execution_count": 84,
   "metadata": {},
   "outputs": [
    {
     "data": {
      "text/plain": [
       "array([[  10,   25,   25,  155,  518],\n",
       "       [   0,  317,  325,  616, 1827]])"
      ]
     },
     "execution_count": 84,
     "metadata": {},
     "output_type": "execute_result"
    }
   ],
   "source": [
    "sales_array.sort() # sorts along column axis by default\n",
    "sales_array"
   ]
  },
  {
   "cell_type": "code",
   "execution_count": 85,
   "metadata": {},
   "outputs": [
    {
     "data": {
      "text/plain": [
       "array([[   0,   25,   25,  155,  518],\n",
       "       [  10,  317,  325,  616, 1827]])"
      ]
     },
     "execution_count": 85,
     "metadata": {},
     "output_type": "execute_result"
    }
   ],
   "source": [
    "sales_array.sort(axis = 0) # Sorts along the rows per column.\n",
    "sales_array"
   ]
  },
  {
   "cell_type": "code",
   "execution_count": 86,
   "metadata": {},
   "outputs": [
    {
     "data": {
      "text/plain": [
       "array([[   0,   25,   25,  155,  518],\n",
       "       [  10,  317,  325,  616, 1827]])"
      ]
     },
     "execution_count": 86,
     "metadata": {},
     "output_type": "execute_result"
    }
   ],
   "source": [
    "np.sort(sales_array)"
   ]
  },
  {
   "cell_type": "code",
   "execution_count": 87,
   "metadata": {},
   "outputs": [
    {
     "data": {
      "text/plain": [
       "array([   0,   25,   25,  155,  518,   10,  317,  325,  616, 1827])"
      ]
     },
     "execution_count": 87,
     "metadata": {},
     "output_type": "execute_result"
    }
   ],
   "source": [
    "sales_array.reshape(10)"
   ]
  },
  {
   "cell_type": "code",
   "execution_count": 88,
   "metadata": {},
   "outputs": [
    {
     "data": {
      "text/plain": [
       "array([[   0,   25,   25,  155,  518],\n",
       "       [  10,  317,  325,  616, 1827]])"
      ]
     },
     "execution_count": 88,
     "metadata": {},
     "output_type": "execute_result"
    }
   ],
   "source": [
    "np.sort(sales_array)"
   ]
  },
  {
   "cell_type": "code",
   "execution_count": 89,
   "metadata": {},
   "outputs": [
    {
     "data": {
      "text/plain": [
       "array([1827,  616,  325,  317,   10,  518,  155,   25,   25,    0])"
      ]
     },
     "execution_count": 89,
     "metadata": {},
     "output_type": "execute_result"
    }
   ],
   "source": [
    "sales_array.sort()\n",
    "\n",
    "sales_array.reshape(10)[::-1] # Slices the array from the last item hence returning a reversed sort.\n"
   ]
  },
  {
   "cell_type": "code",
   "execution_count": null,
   "metadata": {},
   "outputs": [],
   "source": []
  },
  {
   "cell_type": "markdown",
   "metadata": {},
   "source": [
    "# Vectorization.\n",
    "\n",
    "This is the process of pushong array operations into optimized C code, which is easier and more efficient than writing for loops.\n",
    "\n",
    "Use vectorized operations whenever possible when manipulating data, and avoid writing for loops."
   ]
  },
  {
   "cell_type": "markdown",
   "metadata": {},
   "source": [
    "# Broadcasting.\n",
    "\n",
    "Lets you perform vectorized operations with arrays of different sizes, where NumPy will expand the smaller array to fit the larger one.\n",
    "* Single values(Scalars) can be broadcast into arrays of any dimension.\n",
    "\n"
   ]
  },
  {
   "cell_type": "code",
   "execution_count": 91,
   "metadata": {},
   "outputs": [
    {
     "data": {
      "text/plain": [
       "array([[1, 2, 3],\n",
       "       [1, 2, 3],\n",
       "       [1, 2, 3]])"
      ]
     },
     "execution_count": 91,
     "metadata": {},
     "output_type": "execute_result"
    }
   ],
   "source": [
    "test_array = np.array([[1,2,3],[1,2,3],[1,2,3]])\n",
    "test_array"
   ]
  },
  {
   "cell_type": "code",
   "execution_count": 92,
   "metadata": {},
   "outputs": [
    {
     "data": {
      "text/plain": [
       "array([[2, 3, 4],\n",
       "       [2, 3, 4],\n",
       "       [2, 3, 4]])"
      ]
     },
     "execution_count": 92,
     "metadata": {},
     "output_type": "execute_result"
    }
   ],
   "source": [
    "test_array + 1"
   ]
  },
  {
   "cell_type": "markdown",
   "metadata": {},
   "source": [
    "* Dimensions with a length greater than one must be the same size"
   ]
  },
  {
   "cell_type": "code",
   "execution_count": 93,
   "metadata": {},
   "outputs": [
    {
     "data": {
      "text/plain": [
       "array([[4, 4, 4],\n",
       "       [4, 4, 4],\n",
       "       [4, 4, 4]])"
      ]
     },
     "execution_count": 93,
     "metadata": {},
     "output_type": "execute_result"
    }
   ],
   "source": [
    "test_array + np.array([3,2,1])"
   ]
  },
  {
   "cell_type": "code",
   "execution_count": null,
   "metadata": {},
   "outputs": [],
   "source": []
  }
 ],
 "metadata": {
  "colab": {
   "authorship_tag": "ABX9TyN487fj9xQ8NwfHU3g4vtok",
   "collapsed_sections": [],
   "provenance": []
  },
  "kernelspec": {
   "display_name": "Python 3 (ipykernel)",
   "language": "python",
   "name": "python3"
  },
  "language_info": {
   "codemirror_mode": {
    "name": "ipython",
    "version": 3
   },
   "file_extension": ".py",
   "mimetype": "text/x-python",
   "name": "python",
   "nbconvert_exporter": "python",
   "pygments_lexer": "ipython3",
   "version": "3.10.6"
  }
 },
 "nbformat": 4,
 "nbformat_minor": 1
}
